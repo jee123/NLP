{
 "cells": [
  {
   "cell_type": "code",
   "execution_count": 1,
   "metadata": {},
   "outputs": [
    {
     "name": "stderr",
     "output_type": "stream",
     "text": [
      "Using TensorFlow backend.\n"
     ]
    }
   ],
   "source": [
    "# # https://deeplearningcourses.com/c/deep-learning-advanced-nlp\n",
    "# get the data at: http://www.manythings.org/anki/\n",
    "from __future__ import print_function, division\n",
    "from builtins import range, input\n",
    "# Note: you may need to update your version of future\n",
    "# sudo pip install -U future\n",
    "\n",
    "import os, sys\n",
    "\n",
    "from keras.models import Model\n",
    "from keras.layers import Input, LSTM, GRU, Dense, Embedding\n",
    "from keras.preprocessing.text import Tokenizer\n",
    "from keras.preprocessing.sequence import pad_sequences\n",
    "from keras.utils import to_categorical\n",
    "import numpy as np\n",
    "import matplotlib.pyplot as plt\n",
    "\n",
    "import keras.backend as K\n",
    "if len(K.tensorflow_backend._get_available_gpus()) > 0:\n",
    "  from keras.layers import CuDNNLSTM as LSTM\n",
    "  from keras.layers import CuDNNGRU as GRU"
   ]
  },
  {
   "cell_type": "code",
   "execution_count": 2,
   "metadata": {},
   "outputs": [],
   "source": [
    "# some config\n",
    "BATCH_SIZE = 64  # Batch size for training.\n",
    "EPOCHS = 100  # Number of epochs to train for.\n",
    "LATENT_DIM = 256  # Latent dimensionality of the encoding space.\n",
    "NUM_SAMPLES = 10000  # Number of samples to train on.\n",
    "MAX_SEQUENCE_LENGTH = 100\n",
    "MAX_NUM_WORDS = 20000\n",
    "EMBEDDING_DIM = 100"
   ]
  },
  {
   "cell_type": "code",
   "execution_count": 3,
   "metadata": {},
   "outputs": [],
   "source": [
    "# Where we will store the data\n",
    "input_texts = [] # sentence in original language\n",
    "target_texts = [] # sentence in target language\n",
    "target_texts_inputs = [] # sentence in target language offset by 1"
   ]
  },
  {
   "cell_type": "code",
   "execution_count": 4,
   "metadata": {},
   "outputs": [
    {
     "name": "stdout",
     "output_type": "stream",
     "text": [
      "num samples: 2831\n"
     ]
    }
   ],
   "source": [
    "# load in the data\n",
    "# download the data at: http://www.manythings.org/anki/\n",
    "t = 0\n",
    "for line in open('/Users/tjee/NLP/data_inp/hin.txt'):\n",
    "  # only keep a limited number of samples\n",
    "  t += 1\n",
    "  if t > NUM_SAMPLES:\n",
    "    break\n",
    "\n",
    "  # input and target are separated by tab\n",
    "  if '\\t' not in line:\n",
    "    continue\n",
    "\n",
    "  # split up the input and translation\n",
    "  input_text, translation = line.rstrip().split('\\t')\n",
    "\n",
    "  # make the target input and output\n",
    "  # recall we'll be using teacher forcing\n",
    "  target_text = translation + ' <eos>'\n",
    "  target_text_input = '<sos> ' + translation\n",
    "\n",
    "  input_texts.append(input_text)\n",
    "  target_texts.append(target_text)\n",
    "  target_texts_inputs.append(target_text_input)\n",
    "print(\"num samples:\", len(input_texts))"
   ]
  },
  {
   "cell_type": "code",
   "execution_count": 5,
   "metadata": {},
   "outputs": [],
   "source": [
    "# tokenize the inputs\n",
    "tokenizer_inputs = Tokenizer(num_words=MAX_NUM_WORDS)\n",
    "tokenizer_inputs.fit_on_texts(input_texts)\n",
    "input_sequences = tokenizer_inputs.texts_to_sequences(input_texts)"
   ]
  },
  {
   "cell_type": "code",
   "execution_count": 6,
   "metadata": {},
   "outputs": [
    {
     "name": "stdout",
     "output_type": "stream",
     "text": [
      "Found 2392 unique input tokens.\n"
     ]
    }
   ],
   "source": [
    "# get the word to index mapping for input language\n",
    "word2idx_inputs = tokenizer_inputs.word_index\n",
    "print('Found %s unique input tokens.' % len(word2idx_inputs))"
   ]
  },
  {
   "cell_type": "code",
   "execution_count": 7,
   "metadata": {},
   "outputs": [],
   "source": [
    "# determine maximum length input sequence\n",
    "max_len_input = max(len(s) for s in input_sequences)"
   ]
  },
  {
   "cell_type": "code",
   "execution_count": 8,
   "metadata": {},
   "outputs": [],
   "source": [
    "# tokenize the outputs\n",
    "# don't filter out special characters\n",
    "# otherwise <sos> and <eos> won't appear\n",
    "tokenizer_outputs = Tokenizer(num_words=MAX_NUM_WORDS, filters='')\n",
    "tokenizer_outputs.fit_on_texts(target_texts + target_texts_inputs) # inefficient, oh well\n",
    "target_sequences = tokenizer_outputs.texts_to_sequences(target_texts)\n",
    "target_sequences_inputs = tokenizer_outputs.texts_to_sequences(target_texts_inputs)"
   ]
  },
  {
   "cell_type": "code",
   "execution_count": 9,
   "metadata": {},
   "outputs": [
    {
     "name": "stdout",
     "output_type": "stream",
     "text": [
      "Found 3143 unique output tokens.\n"
     ]
    }
   ],
   "source": [
    "# get the word to index mapping for output language\n",
    "word2idx_outputs = tokenizer_outputs.word_index\n",
    "print('Found %s unique output tokens.' % len(word2idx_outputs))"
   ]
  },
  {
   "cell_type": "code",
   "execution_count": 10,
   "metadata": {},
   "outputs": [],
   "source": [
    "# store number of output words for later\n",
    "# remember to add 1 since indexing starts at 1\n",
    "num_words_output = len(word2idx_outputs) + 1"
   ]
  },
  {
   "cell_type": "code",
   "execution_count": 11,
   "metadata": {},
   "outputs": [],
   "source": [
    "# determine maximum length output sequence\n",
    "max_len_target = max(len(s) for s in target_sequences)"
   ]
  },
  {
   "cell_type": "code",
   "execution_count": 12,
   "metadata": {},
   "outputs": [
    {
     "name": "stdout",
     "output_type": "stream",
     "text": [
      "encoder_inputs.shape: (2831, 22)\n",
      "encoder_inputs[0]: [   0    0    0    0    0    0    0    0    0    0    0    0    0    0\n",
      "    0    0    0    0    0    0    0 1276]\n",
      "decoder_inputs[0]: [   2 1492    0    0    0    0    0    0    0    0    0    0    0    0\n",
      "    0    0    0    0    0    0    0    0    0    0    0    0]\n",
      "decoder_inputs.shape: (2831, 26)\n"
     ]
    }
   ],
   "source": [
    "# pad the sequences\n",
    "encoder_inputs = pad_sequences(input_sequences, maxlen=max_len_input)\n",
    "print(\"encoder_inputs.shape:\", encoder_inputs.shape)\n",
    "print(\"encoder_inputs[0]:\", encoder_inputs[0])\n",
    "\n",
    "decoder_inputs = pad_sequences(target_sequences_inputs, maxlen=max_len_target, padding='post')\n",
    "print(\"decoder_inputs[0]:\", decoder_inputs[0])\n",
    "print(\"decoder_inputs.shape:\", decoder_inputs.shape)\n",
    "\n",
    "decoder_targets = pad_sequences(target_sequences, maxlen=max_len_target, padding='post')"
   ]
  },
  {
   "cell_type": "code",
   "execution_count": 13,
   "metadata": {},
   "outputs": [
    {
     "name": "stdout",
     "output_type": "stream",
     "text": [
      "Loading word vectors...\n",
      "Found 400000 word vectors.\n"
     ]
    }
   ],
   "source": [
    "# store all the pre-trained word vectors\n",
    "print('Loading word vectors...')\n",
    "word2vec = {}\n",
    "with open(os.path.join('/Users/tjee/NLP/data_inp/glove.6B.%sd.txt' % EMBEDDING_DIM)) as f:\n",
    "  # is just a space-separated text file in the format:\n",
    "  # word vec[0] vec[1] vec[2] ...\n",
    "  for line in f:\n",
    "    values = line.split()\n",
    "    word = values[0]\n",
    "    vec = np.asarray(values[1:], dtype='float32')\n",
    "    word2vec[word] = vec\n",
    "print('Found %s word vectors.' % len(word2vec))"
   ]
  },
  {
   "cell_type": "code",
   "execution_count": 14,
   "metadata": {},
   "outputs": [
    {
     "name": "stdout",
     "output_type": "stream",
     "text": [
      "Filling pre-trained embeddings...\n"
     ]
    }
   ],
   "source": [
    "# prepare embedding matrix\n",
    "print('Filling pre-trained embeddings...')\n",
    "num_words = min(MAX_NUM_WORDS, len(word2idx_inputs) + 1)\n",
    "embedding_matrix = np.zeros((num_words, EMBEDDING_DIM))\n",
    "for word, i in word2idx_inputs.items():\n",
    "  if i < MAX_NUM_WORDS:\n",
    "    embedding_vector = word2vec.get(word)\n",
    "    if embedding_vector is not None:\n",
    "      # words not found in embedding index will be all zeros.\n",
    "      embedding_matrix[i] = embedding_vector"
   ]
  },
  {
   "cell_type": "code",
   "execution_count": 15,
   "metadata": {},
   "outputs": [],
   "source": [
    "# create embedding layer\n",
    "embedding_layer = Embedding(\n",
    "  num_words,\n",
    "  EMBEDDING_DIM,\n",
    "  weights=[embedding_matrix],\n",
    "  input_length=max_len_input,\n",
    "  # trainable=True\n",
    ")"
   ]
  },
  {
   "cell_type": "code",
   "execution_count": 16,
   "metadata": {},
   "outputs": [],
   "source": [
    "# create targets, since we cannot use sparse\n",
    "# categorical cross entropy when we have sequences\n",
    "decoder_targets_one_hot = np.zeros(\n",
    "  (\n",
    "    len(input_texts),\n",
    "    max_len_target,\n",
    "    num_words_output\n",
    "  ),\n",
    "  dtype='float32'\n",
    ")"
   ]
  },
  {
   "cell_type": "code",
   "execution_count": 17,
   "metadata": {},
   "outputs": [],
   "source": [
    "# assign the values\n",
    "for i, d in enumerate(decoder_targets):\n",
    "  for t, word in enumerate(d):\n",
    "    decoder_targets_one_hot[i, t, word] = 1"
   ]
  },
  {
   "cell_type": "code",
   "execution_count": 18,
   "metadata": {},
   "outputs": [
    {
     "name": "stdout",
     "output_type": "stream",
     "text": [
      "WARNING:tensorflow:From /Users/tjee/.pyenv/versions/jupyter3/lib/python3.7/site-packages/tensorflow/python/framework/op_def_library.py:263: colocate_with (from tensorflow.python.framework.ops) is deprecated and will be removed in a future version.\n",
      "Instructions for updating:\n",
      "Colocations handled automatically by placer.\n"
     ]
    }
   ],
   "source": [
    "##### build the model #####\n",
    "encoder_inputs_placeholder = Input(shape=(max_len_input,))\n",
    "x = embedding_layer(encoder_inputs_placeholder)\n",
    "encoder = LSTM(\n",
    "  LATENT_DIM,\n",
    "  return_state=True,\n",
    "  # dropout=0.5 # dropout not available on gpu\n",
    ")\n",
    "encoder_outputs, h, c = encoder(x)\n",
    "# encoder_outputs, h = encoder(x) #gru\n",
    "\n",
    "# keep only the states to pass into decoder\n",
    "encoder_states = [h, c]\n",
    "# encoder_states = [state_h] # gru\n",
    "\n",
    "# Set up the decoder, using [h, c] as initial state.\n",
    "decoder_inputs_placeholder = Input(shape=(max_len_target,))\n",
    "\n",
    "# this word embedding will not use pre-trained vectors\n",
    "# although you could\n",
    "decoder_embedding = Embedding(num_words_output, LATENT_DIM)\n",
    "decoder_inputs_x = decoder_embedding(decoder_inputs_placeholder)"
   ]
  },
  {
   "cell_type": "code",
   "execution_count": 19,
   "metadata": {},
   "outputs": [],
   "source": [
    "# since the decoder is a \"to-many\" model we want to have\n",
    "# return_sequences=True\n",
    "decoder_lstm = LSTM(\n",
    "  LATENT_DIM,\n",
    "  return_sequences=True,\n",
    "  return_state=True,\n",
    "  # dropout=0.5 # dropout not available on gpu\n",
    ")\n",
    "decoder_outputs, _, _ = decoder_lstm(\n",
    "  decoder_inputs_x,\n",
    "  initial_state=encoder_states\n",
    ")"
   ]
  },
  {
   "cell_type": "code",
   "execution_count": 20,
   "metadata": {},
   "outputs": [],
   "source": [
    "# decoder_outputs, _ = decoder_gru(\n",
    "#   decoder_inputs_x,\n",
    "#   initial_state=encoder_states\n",
    "# )\n",
    "\n",
    "# final dense layer for predictions\n",
    "decoder_dense = Dense(num_words_output, activation='softmax')\n",
    "decoder_outputs = decoder_dense(decoder_outputs)\n",
    "\n",
    "# Create the model object\n",
    "model = Model([encoder_inputs_placeholder, decoder_inputs_placeholder], decoder_outputs)"
   ]
  },
  {
   "cell_type": "code",
   "execution_count": 21,
   "metadata": {},
   "outputs": [
    {
     "name": "stdout",
     "output_type": "stream",
     "text": [
      "WARNING:tensorflow:From /Users/tjee/.pyenv/versions/jupyter3/lib/python3.7/site-packages/tensorflow/python/ops/math_ops.py:3066: to_int32 (from tensorflow.python.ops.math_ops) is deprecated and will be removed in a future version.\n",
      "Instructions for updating:\n",
      "Use tf.cast instead.\n",
      "WARNING:tensorflow:From /Users/tjee/.pyenv/versions/jupyter3/lib/python3.7/site-packages/tensorflow/python/ops/math_grad.py:102: div (from tensorflow.python.ops.math_ops) is deprecated and will be removed in a future version.\n",
      "Instructions for updating:\n",
      "Deprecated in favor of operator or tf.math.divide.\n",
      "Train on 2264 samples, validate on 567 samples\n",
      "Epoch 1/100\n",
      "2264/2264 [==============================] - 24s 11ms/step - loss: 2.3795 - acc: 0.7138 - val_loss: 2.7863 - val_acc: 0.5895\n",
      "Epoch 2/100\n",
      "2264/2264 [==============================] - 24s 10ms/step - loss: 1.5795 - acc: 0.7528 - val_loss: 2.6901 - val_acc: 0.6030\n",
      "Epoch 3/100\n",
      "2264/2264 [==============================] - 22s 10ms/step - loss: 1.4654 - acc: 0.7744 - val_loss: 2.6675 - val_acc: 0.6267\n",
      "Epoch 4/100\n",
      "2264/2264 [==============================] - 20s 9ms/step - loss: 1.3891 - acc: 0.7801 - val_loss: 2.6195 - val_acc: 0.6323\n",
      "Epoch 5/100\n",
      "2264/2264 [==============================] - 20s 9ms/step - loss: 1.3251 - acc: 0.7870 - val_loss: 2.6457 - val_acc: 0.6369\n",
      "Epoch 6/100\n",
      "2264/2264 [==============================] - 21s 9ms/step - loss: 1.2666 - acc: 0.7927 - val_loss: 2.5863 - val_acc: 0.6384\n",
      "Epoch 7/100\n",
      "2264/2264 [==============================] - 24s 11ms/step - loss: 1.2114 - acc: 0.7972 - val_loss: 2.6121 - val_acc: 0.6406\n",
      "Epoch 8/100\n",
      "2264/2264 [==============================] - 25s 11ms/step - loss: 1.1598 - acc: 0.8016 - val_loss: 2.5972 - val_acc: 0.6428\n",
      "Epoch 9/100\n",
      "2264/2264 [==============================] - 23s 10ms/step - loss: 1.1079 - acc: 0.8060 - val_loss: 2.5464 - val_acc: 0.6481\n",
      "Epoch 10/100\n",
      "2264/2264 [==============================] - 23s 10ms/step - loss: 1.0576 - acc: 0.8105 - val_loss: 2.5415 - val_acc: 0.6465\n",
      "Epoch 11/100\n",
      "2264/2264 [==============================] - 23s 10ms/step - loss: 1.0081 - acc: 0.8160 - val_loss: 2.5360 - val_acc: 0.6488\n",
      "Epoch 12/100\n",
      "2264/2264 [==============================] - 24s 11ms/step - loss: 0.9609 - acc: 0.8208 - val_loss: 2.5159 - val_acc: 0.6516\n",
      "Epoch 13/100\n",
      "2264/2264 [==============================] - 20s 9ms/step - loss: 0.9133 - acc: 0.8256 - val_loss: 2.5095 - val_acc: 0.6527\n",
      "Epoch 14/100\n",
      "2264/2264 [==============================] - 20s 9ms/step - loss: 0.8671 - acc: 0.8315 - val_loss: 2.5332 - val_acc: 0.6552\n",
      "Epoch 15/100\n",
      "2264/2264 [==============================] - 21s 9ms/step - loss: 0.8229 - acc: 0.8373 - val_loss: 2.5085 - val_acc: 0.6576\n",
      "Epoch 16/100\n",
      "2264/2264 [==============================] - 31s 14ms/step - loss: 0.7786 - acc: 0.8422 - val_loss: 2.5537 - val_acc: 0.6551\n",
      "Epoch 17/100\n",
      "2264/2264 [==============================] - 26s 11ms/step - loss: 0.7353 - acc: 0.8483 - val_loss: 2.5202 - val_acc: 0.6566\n",
      "Epoch 18/100\n",
      "2264/2264 [==============================] - 25s 11ms/step - loss: 0.6932 - acc: 0.8561 - val_loss: 2.5358 - val_acc: 0.6557\n",
      "Epoch 19/100\n",
      "2264/2264 [==============================] - 25s 11ms/step - loss: 0.6533 - acc: 0.8624 - val_loss: 2.5143 - val_acc: 0.6589\n",
      "Epoch 20/100\n",
      "2264/2264 [==============================] - 24s 10ms/step - loss: 0.6116 - acc: 0.8713 - val_loss: 2.5185 - val_acc: 0.6598\n",
      "Epoch 21/100\n",
      "2264/2264 [==============================] - 23s 10ms/step - loss: 0.5741 - acc: 0.8793 - val_loss: 2.5326 - val_acc: 0.6600\n",
      "Epoch 22/100\n",
      "2264/2264 [==============================] - 23s 10ms/step - loss: 0.5366 - acc: 0.8863 - val_loss: 2.5421 - val_acc: 0.6608\n",
      "Epoch 23/100\n",
      "2264/2264 [==============================] - 24s 10ms/step - loss: 0.5015 - acc: 0.8947 - val_loss: 2.5437 - val_acc: 0.6599\n",
      "Epoch 24/100\n",
      "2264/2264 [==============================] - 24s 11ms/step - loss: 0.4661 - acc: 0.9033 - val_loss: 2.5474 - val_acc: 0.6597\n",
      "Epoch 25/100\n",
      "2264/2264 [==============================] - 23s 10ms/step - loss: 0.4327 - acc: 0.9119 - val_loss: 2.5407 - val_acc: 0.6597\n",
      "Epoch 26/100\n",
      "2264/2264 [==============================] - 24s 11ms/step - loss: 0.4009 - acc: 0.9200 - val_loss: 2.5545 - val_acc: 0.6605\n",
      "Epoch 27/100\n",
      "2264/2264 [==============================] - 24s 11ms/step - loss: 0.3708 - acc: 0.9276 - val_loss: 2.5657 - val_acc: 0.6610\n",
      "Epoch 28/100\n",
      "2264/2264 [==============================] - 27s 12ms/step - loss: 0.3411 - acc: 0.9350 - val_loss: 2.5609 - val_acc: 0.6596\n",
      "Epoch 29/100\n",
      "2264/2264 [==============================] - 22s 10ms/step - loss: 0.3129 - acc: 0.9421 - val_loss: 2.5941 - val_acc: 0.6604\n",
      "Epoch 30/100\n",
      "2264/2264 [==============================] - 23s 10ms/step - loss: 0.2861 - acc: 0.9491 - val_loss: 2.5936 - val_acc: 0.6606\n",
      "Epoch 31/100\n",
      "2264/2264 [==============================] - 23s 10ms/step - loss: 0.2618 - acc: 0.9553 - val_loss: 2.5855 - val_acc: 0.6603\n",
      "Epoch 32/100\n",
      "2264/2264 [==============================] - 24s 11ms/step - loss: 0.2382 - acc: 0.9609 - val_loss: 2.6239 - val_acc: 0.6610\n",
      "Epoch 33/100\n",
      "2264/2264 [==============================] - 23s 10ms/step - loss: 0.2157 - acc: 0.9657 - val_loss: 2.6782 - val_acc: 0.6601\n",
      "Epoch 34/100\n",
      "2264/2264 [==============================] - 23s 10ms/step - loss: 0.1951 - acc: 0.9703 - val_loss: 2.6389 - val_acc: 0.6616\n",
      "Epoch 35/100\n",
      "2264/2264 [==============================] - 26s 12ms/step - loss: 0.1763 - acc: 0.9741 - val_loss: 2.6603 - val_acc: 0.6621\n",
      "Epoch 36/100\n",
      "2264/2264 [==============================] - 20s 9ms/step - loss: 0.1583 - acc: 0.9782 - val_loss: 2.6688 - val_acc: 0.6631\n",
      "Epoch 37/100\n",
      "2264/2264 [==============================] - 20s 9ms/step - loss: 0.1431 - acc: 0.9801 - val_loss: 2.6656 - val_acc: 0.6624\n",
      "Epoch 38/100\n",
      "2264/2264 [==============================] - 20s 9ms/step - loss: 0.1275 - acc: 0.9834 - val_loss: 2.6964 - val_acc: 0.6633\n",
      "Epoch 39/100\n",
      "2264/2264 [==============================] - 20s 9ms/step - loss: 0.1140 - acc: 0.9857 - val_loss: 2.7029 - val_acc: 0.6642\n",
      "Epoch 40/100\n",
      "2264/2264 [==============================] - 20s 9ms/step - loss: 0.1015 - acc: 0.9880 - val_loss: 2.7364 - val_acc: 0.6624\n",
      "Epoch 41/100\n",
      "2264/2264 [==============================] - 20s 9ms/step - loss: 0.0910 - acc: 0.9896 - val_loss: 2.7328 - val_acc: 0.6635\n",
      "Epoch 42/100\n",
      "2264/2264 [==============================] - 20s 9ms/step - loss: 0.0809 - acc: 0.9909 - val_loss: 2.7686 - val_acc: 0.6623\n",
      "Epoch 43/100\n",
      "2264/2264 [==============================] - 20s 9ms/step - loss: 0.0718 - acc: 0.9915 - val_loss: 2.7797 - val_acc: 0.6623\n",
      "Epoch 44/100\n",
      "2264/2264 [==============================] - 20s 9ms/step - loss: 0.0638 - acc: 0.9925 - val_loss: 2.7758 - val_acc: 0.6623\n",
      "Epoch 45/100\n",
      "2264/2264 [==============================] - 20s 9ms/step - loss: 0.0572 - acc: 0.9932 - val_loss: 2.7831 - val_acc: 0.6621\n",
      "Epoch 46/100\n",
      "2264/2264 [==============================] - 20s 9ms/step - loss: 0.0511 - acc: 0.9938 - val_loss: 2.7924 - val_acc: 0.6639\n",
      "Epoch 47/100\n",
      "2264/2264 [==============================] - 20s 9ms/step - loss: 0.0458 - acc: 0.9939 - val_loss: 2.8361 - val_acc: 0.6632\n",
      "Epoch 48/100\n",
      "2264/2264 [==============================] - 20s 9ms/step - loss: 0.0409 - acc: 0.9944 - val_loss: 2.8324 - val_acc: 0.6635\n",
      "Epoch 49/100\n",
      "2264/2264 [==============================] - 20s 9ms/step - loss: 0.0370 - acc: 0.9947 - val_loss: 2.8460 - val_acc: 0.6621\n",
      "Epoch 50/100\n",
      "2264/2264 [==============================] - 20s 9ms/step - loss: 0.0338 - acc: 0.9945 - val_loss: 2.8857 - val_acc: 0.6637\n",
      "Epoch 51/100\n",
      "2264/2264 [==============================] - 20s 9ms/step - loss: 0.0306 - acc: 0.9948 - val_loss: 2.8828 - val_acc: 0.6639\n",
      "Epoch 52/100\n",
      "2264/2264 [==============================] - 20s 9ms/step - loss: 0.0277 - acc: 0.9950 - val_loss: 2.9060 - val_acc: 0.6636\n",
      "Epoch 53/100\n",
      "2264/2264 [==============================] - 20s 9ms/step - loss: 0.0258 - acc: 0.9949 - val_loss: 2.8995 - val_acc: 0.6648\n",
      "Epoch 54/100\n",
      "2264/2264 [==============================] - 20s 9ms/step - loss: 0.0237 - acc: 0.9952 - val_loss: 2.9160 - val_acc: 0.6648\n",
      "Epoch 55/100\n",
      "2264/2264 [==============================] - 20s 9ms/step - loss: 0.0219 - acc: 0.9949 - val_loss: 2.9296 - val_acc: 0.6635\n",
      "Epoch 56/100\n"
     ]
    },
    {
     "name": "stdout",
     "output_type": "stream",
     "text": [
      "2264/2264 [==============================] - 20s 9ms/step - loss: 0.0206 - acc: 0.9949 - val_loss: 2.9485 - val_acc: 0.6642\n",
      "Epoch 57/100\n",
      "2264/2264 [==============================] - 20s 9ms/step - loss: 0.0191 - acc: 0.9951 - val_loss: 2.9706 - val_acc: 0.6634\n",
      "Epoch 58/100\n",
      "2264/2264 [==============================] - 20s 9ms/step - loss: 0.0181 - acc: 0.9952 - val_loss: 2.9555 - val_acc: 0.6652\n",
      "Epoch 59/100\n",
      "2264/2264 [==============================] - 21s 9ms/step - loss: 0.0172 - acc: 0.9952 - val_loss: 3.0163 - val_acc: 0.6644\n",
      "Epoch 60/100\n",
      "2264/2264 [==============================] - 20s 9ms/step - loss: 0.0166 - acc: 0.9949 - val_loss: 3.0082 - val_acc: 0.6638\n",
      "Epoch 61/100\n",
      "2264/2264 [==============================] - 20s 9ms/step - loss: 0.0153 - acc: 0.9953 - val_loss: 3.0387 - val_acc: 0.6633\n",
      "Epoch 62/100\n",
      "2264/2264 [==============================] - 20s 9ms/step - loss: 0.0146 - acc: 0.9953 - val_loss: 3.0345 - val_acc: 0.6641\n",
      "Epoch 63/100\n",
      "2264/2264 [==============================] - 20s 9ms/step - loss: 0.0143 - acc: 0.9953 - val_loss: 3.0341 - val_acc: 0.6638\n",
      "Epoch 64/100\n",
      "2264/2264 [==============================] - 20s 9ms/step - loss: 0.0136 - acc: 0.9953 - val_loss: 3.0639 - val_acc: 0.6627\n",
      "Epoch 65/100\n",
      "2264/2264 [==============================] - 20s 9ms/step - loss: 0.0132 - acc: 0.9954 - val_loss: 3.0779 - val_acc: 0.6640\n",
      "Epoch 66/100\n",
      "2264/2264 [==============================] - 20s 9ms/step - loss: 0.0127 - acc: 0.9952 - val_loss: 3.0756 - val_acc: 0.6633\n",
      "Epoch 67/100\n",
      "2264/2264 [==============================] - 20s 9ms/step - loss: 0.0123 - acc: 0.9952 - val_loss: 3.0713 - val_acc: 0.6644\n",
      "Epoch 68/100\n",
      "2264/2264 [==============================] - 20s 9ms/step - loss: 0.0120 - acc: 0.9954 - val_loss: 3.0872 - val_acc: 0.6651\n",
      "Epoch 69/100\n",
      "2264/2264 [==============================] - 20s 9ms/step - loss: 0.0117 - acc: 0.9951 - val_loss: 3.1220 - val_acc: 0.6635\n",
      "Epoch 70/100\n",
      "2264/2264 [==============================] - 20s 9ms/step - loss: 0.0113 - acc: 0.9950 - val_loss: 3.1195 - val_acc: 0.6633\n",
      "Epoch 71/100\n",
      "2264/2264 [==============================] - 20s 9ms/step - loss: 0.0112 - acc: 0.9954 - val_loss: 3.1474 - val_acc: 0.6651\n",
      "Epoch 72/100\n",
      "2264/2264 [==============================] - 20s 9ms/step - loss: 0.0109 - acc: 0.9954 - val_loss: 3.1307 - val_acc: 0.6651\n",
      "Epoch 73/100\n",
      "2264/2264 [==============================] - 20s 9ms/step - loss: 0.0106 - acc: 0.9954 - val_loss: 3.1652 - val_acc: 0.6643\n",
      "Epoch 74/100\n",
      "2264/2264 [==============================] - 22s 10ms/step - loss: 0.0105 - acc: 0.9952 - val_loss: 3.2135 - val_acc: 0.6642\n",
      "Epoch 75/100\n",
      "2264/2264 [==============================] - 20s 9ms/step - loss: 0.0104 - acc: 0.9953 - val_loss: 3.1537 - val_acc: 0.6637\n",
      "Epoch 76/100\n",
      "2264/2264 [==============================] - 20s 9ms/step - loss: 0.0100 - acc: 0.9953 - val_loss: 3.1855 - val_acc: 0.6651\n",
      "Epoch 77/100\n",
      "2264/2264 [==============================] - 20s 9ms/step - loss: 0.0101 - acc: 0.9953 - val_loss: 3.1907 - val_acc: 0.6642\n",
      "Epoch 78/100\n",
      "2264/2264 [==============================] - 20s 9ms/step - loss: 0.0098 - acc: 0.9954 - val_loss: 3.2006 - val_acc: 0.6646\n",
      "Epoch 79/100\n",
      "2264/2264 [==============================] - 20s 9ms/step - loss: 0.0098 - acc: 0.9953 - val_loss: 3.1940 - val_acc: 0.6660\n",
      "Epoch 80/100\n",
      "2264/2264 [==============================] - 20s 9ms/step - loss: 0.0097 - acc: 0.9952 - val_loss: 3.2196 - val_acc: 0.6640\n",
      "Epoch 81/100\n",
      "2264/2264 [==============================] - 20s 9ms/step - loss: 0.0095 - acc: 0.9956 - val_loss: 3.2323 - val_acc: 0.6646\n",
      "Epoch 82/100\n",
      "2264/2264 [==============================] - 20s 9ms/step - loss: 0.0095 - acc: 0.9951 - val_loss: 3.2590 - val_acc: 0.6652\n",
      "Epoch 83/100\n",
      "2264/2264 [==============================] - 20s 9ms/step - loss: 0.0093 - acc: 0.9953 - val_loss: 3.2628 - val_acc: 0.6637\n",
      "Epoch 84/100\n",
      "2264/2264 [==============================] - 20s 9ms/step - loss: 0.0093 - acc: 0.9953 - val_loss: 3.2584 - val_acc: 0.6650\n",
      "Epoch 85/100\n",
      "2264/2264 [==============================] - 20s 9ms/step - loss: 0.0092 - acc: 0.9953 - val_loss: 3.2706 - val_acc: 0.6648\n",
      "Epoch 86/100\n",
      "2264/2264 [==============================] - 20s 9ms/step - loss: 0.0091 - acc: 0.9954 - val_loss: 3.2791 - val_acc: 0.6652\n",
      "Epoch 87/100\n",
      "2264/2264 [==============================] - 20s 9ms/step - loss: 0.0090 - acc: 0.9955 - val_loss: 3.3046 - val_acc: 0.6650\n",
      "Epoch 88/100\n",
      "2264/2264 [==============================] - 20s 9ms/step - loss: 0.0089 - acc: 0.9955 - val_loss: 3.3056 - val_acc: 0.6635\n",
      "Epoch 89/100\n",
      "2264/2264 [==============================] - 20s 9ms/step - loss: 0.0088 - acc: 0.9952 - val_loss: 3.3199 - val_acc: 0.6645\n",
      "Epoch 90/100\n",
      "2264/2264 [==============================] - 20s 9ms/step - loss: 0.0088 - acc: 0.9950 - val_loss: 3.3206 - val_acc: 0.6657\n",
      "Epoch 91/100\n",
      "2264/2264 [==============================] - 20s 9ms/step - loss: 0.0089 - acc: 0.9952 - val_loss: 3.3186 - val_acc: 0.6640\n",
      "Epoch 92/100\n",
      "2264/2264 [==============================] - 20s 9ms/step - loss: 0.0086 - acc: 0.9952 - val_loss: 3.3592 - val_acc: 0.6636\n",
      "Epoch 93/100\n",
      "2264/2264 [==============================] - 20s 9ms/step - loss: 0.0087 - acc: 0.9951 - val_loss: 3.3295 - val_acc: 0.6668\n",
      "Epoch 94/100\n",
      "2264/2264 [==============================] - 20s 9ms/step - loss: 0.0085 - acc: 0.9953 - val_loss: 3.3669 - val_acc: 0.6643\n",
      "Epoch 95/100\n",
      "2264/2264 [==============================] - 20s 9ms/step - loss: 0.0085 - acc: 0.9955 - val_loss: 3.3691 - val_acc: 0.6648\n",
      "Epoch 96/100\n",
      "2264/2264 [==============================] - 20s 9ms/step - loss: 0.0086 - acc: 0.9952 - val_loss: 3.3564 - val_acc: 0.6642\n",
      "Epoch 97/100\n",
      "2264/2264 [==============================] - 20s 9ms/step - loss: 0.0088 - acc: 0.9954 - val_loss: 3.3686 - val_acc: 0.6645\n",
      "Epoch 98/100\n",
      "2264/2264 [==============================] - 20s 9ms/step - loss: 0.0082 - acc: 0.9952 - val_loss: 3.3620 - val_acc: 0.6649\n",
      "Epoch 99/100\n",
      "2264/2264 [==============================] - 20s 9ms/step - loss: 0.0082 - acc: 0.9954 - val_loss: 3.3775 - val_acc: 0.6625\n",
      "Epoch 100/100\n",
      "2264/2264 [==============================] - 20s 9ms/step - loss: 0.0083 - acc: 0.9953 - val_loss: 3.4111 - val_acc: 0.6640\n"
     ]
    }
   ],
   "source": [
    "# Compile the model and train it\n",
    "model.compile(\n",
    "  optimizer='rmsprop',\n",
    "  loss='categorical_crossentropy',\n",
    "  metrics=['accuracy']\n",
    ")\n",
    "r = model.fit(\n",
    "  [encoder_inputs, decoder_inputs], decoder_targets_one_hot,\n",
    "  batch_size=BATCH_SIZE,\n",
    "  epochs=EPOCHS,\n",
    "  validation_split=0.2,\n",
    ")"
   ]
  },
  {
   "cell_type": "code",
   "execution_count": 22,
   "metadata": {},
   "outputs": [
    {
     "data": {
      "image/png": "[encoded data removed]",
      "text/plain": [
       "<Figure size 432x288 with 1 Axes>"
      ]
     },
     "metadata": {
      "needs_background": "light"
     },
     "output_type": "display_data"
    }
   ],
   "source": [
    "# plot some data\n",
    "plt.plot(r.history['loss'], label='loss')\n",
    "plt.plot(r.history['val_loss'], label='val_loss')\n",
    "plt.legend()\n",
    "plt.show()"
   ]
  },
  {
   "cell_type": "code",
   "execution_count": 23,
   "metadata": {},
   "outputs": [
    {
     "data": {
      "image/png": "[encoded data removed]",
      "text/plain": [
       "<Figure size 432x288 with 1 Axes>"
      ]
     },
     "metadata": {
      "needs_background": "light"
     },
     "output_type": "display_data"
    }
   ],
   "source": [
    "# accuracies\n",
    "plt.plot(r.history['acc'], label='acc')\n",
    "plt.plot(r.history['val_acc'], label='val_acc')\n",
    "plt.legend()\n",
    "plt.show()"
   ]
  },
  {
   "cell_type": "code",
   "execution_count": 24,
   "metadata": {},
   "outputs": [
    {
     "name": "stderr",
     "output_type": "stream",
     "text": [
      "/Users/tjee/.pyenv/versions/jupyter3/lib/python3.7/site-packages/keras/engine/network.py:877: UserWarning: Layer lstm_2 was passed non-serializable keyword arguments: {'initial_state': [<tf.Tensor 'lstm_1/while/Exit_3:0' shape=(?, 256) dtype=float32>, <tf.Tensor 'lstm_1/while/Exit_4:0' shape=(?, 256) dtype=float32>]}. They will not be included in the serialized model (and thus will be missing at deserialization time).\n",
      "  '. They will not be included '\n"
     ]
    }
   ],
   "source": [
    "# Save model\n",
    "model.save('s2s.h5')"
   ]
  },
  {
   "cell_type": "code",
   "execution_count": 25,
   "metadata": {},
   "outputs": [],
   "source": [
    "##### Make predictions #####\n",
    "# As with the poetry example, we need to create another model\n",
    "# that can take in the RNN state and previous word as input\n",
    "# and accept a T=1 sequence.\n",
    "\n",
    "# The encoder will be stand-alone\n",
    "# From this we will get our initial decoder hidden state\n",
    "encoder_model = Model(encoder_inputs_placeholder, encoder_states)\n",
    "\n",
    "decoder_state_input_h = Input(shape=(LATENT_DIM,))\n",
    "decoder_state_input_c = Input(shape=(LATENT_DIM,))\n",
    "decoder_states_inputs = [decoder_state_input_h, decoder_state_input_c]\n",
    "# decoder_states_inputs = [decoder_state_input_h] # gru\n",
    "\n",
    "decoder_inputs_single = Input(shape=(1,))\n",
    "decoder_inputs_single_x = decoder_embedding(decoder_inputs_single)\n",
    "\n",
    "# this time, we want to keep the states too, to be output\n",
    "# by our sampling model\n",
    "decoder_outputs, h, c = decoder_lstm(\n",
    "  decoder_inputs_single_x,\n",
    "  initial_state=decoder_states_inputs\n",
    ")\n",
    "# decoder_outputs, state_h = decoder_lstm(\n",
    "#   decoder_inputs_single_x,\n",
    "#   initial_state=decoder_states_inputs\n",
    "# ) #gru\n",
    "decoder_states = [h, c]\n",
    "# decoder_states = [h] # gru\n",
    "decoder_outputs = decoder_dense(decoder_outputs)\n",
    "\n",
    "# The sampling model\n",
    "# inputs: y(t-1), h(t-1), c(t-1)\n",
    "# outputs: y(t), h(t), c(t)\n",
    "decoder_model = Model(\n",
    "  [decoder_inputs_single] + decoder_states_inputs, \n",
    "  [decoder_outputs] + decoder_states\n",
    ")"
   ]
  },
  {
   "cell_type": "code",
   "execution_count": 26,
   "metadata": {},
   "outputs": [],
   "source": [
    "# map indexes back into real words\n",
    "# so we can view the results\n",
    "idx2word_eng = {v:k for k, v in word2idx_inputs.items()}\n",
    "idx2word_trans = {v:k for k, v in word2idx_outputs.items()}"
   ]
  },
  {
   "cell_type": "code",
   "execution_count": 27,
   "metadata": {},
   "outputs": [],
   "source": [
    "def decode_sequence(input_seq):\n",
    "  # Encode the input as state vectors.\n",
    "  states_value = encoder_model.predict(input_seq)\n",
    "\n",
    "  # Generate empty target sequence of length 1.\n",
    "  target_seq = np.zeros((1, 1))\n",
    "\n",
    "  # Populate the first character of target sequence with the start character.\n",
    "  # NOTE: tokenizer lower-cases all words\n",
    "  target_seq[0, 0] = word2idx_outputs['<sos>']\n",
    "\n",
    "  # if we get this we break\n",
    "  eos = word2idx_outputs['<eos>']\n",
    "\n",
    "  # Create the translation\n",
    "  output_sentence = []\n",
    "  for _ in range(max_len_target):\n",
    "    output_tokens, h, c = decoder_model.predict(\n",
    "      [target_seq] + states_value\n",
    "    )\n",
    "    # output_tokens, h = decoder_model.predict(\n",
    "    #     [target_seq] + states_value\n",
    "    # ) # gru\n",
    "\n",
    "    # Get next word\n",
    "    idx = np.argmax(output_tokens[0, 0, :])\n",
    "\n",
    "    # End sentence of EOS\n",
    "    if eos == idx:\n",
    "      break\n",
    "\n",
    "    word = ''\n",
    "    if idx > 0:\n",
    "      word = idx2word_trans[idx]\n",
    "      output_sentence.append(word)\n",
    "\n",
    "    # Update the decoder input\n",
    "    # which is just the word just generated\n",
    "    target_seq[0, 0] = idx\n",
    "\n",
    "    # Update states\n",
    "    states_value = [h, c]\n",
    "    # states_value = [h] # gru\n",
    "\n",
    "  return ' '.join(output_sentence)"
   ]
  },
  {
   "cell_type": "code",
   "execution_count": 28,
   "metadata": {},
   "outputs": [
    {
     "name": "stdout",
     "output_type": "stream",
     "text": [
      "-\n",
      "Input: I hope he won't be disappointed.\n",
      "Translation: मुझे आशा है कि वह निराश नहीं होगा।\n",
      "Continue? [Y/n]Y\n",
      "-\n",
      "Input: I'm hungry!\n",
      "Translation: मुझे भूख लगी है!\n",
      "Continue? [Y/n]Y\n",
      "-\n",
      "Input: Are you busy today?\n",
      "Translation: तुम आज बिज़ी हो क्या?\n",
      "Continue? [Y/n]Y'\n",
      "-\n",
      "Input: Someday your dream will come true.\n",
      "Translation: तुम्हारा सपना एक दिन सच हो जाएगा।\n",
      "Continue? [Y/n]Y\n",
      "-\n",
      "Input: Classical music is not my cup of tea.\n",
      "Translation: मुझे शास्त्रीय संगीत सुनने का शौक नहीं है।\n",
      "Continue? [Y/n]Y\n",
      "-\n",
      "Input: You may use my pen.\n",
      "Translation: तुम मेरी कलम इस्तेमाल कर सकते हो।\n",
      "Continue? [Y/n]n\n"
     ]
    }
   ],
   "source": [
    "while True:\n",
    "  # Do some test translations\n",
    "  i = np.random.choice(len(input_texts))\n",
    "  input_seq = encoder_inputs[i:i+1]\n",
    "  translation = decode_sequence(input_seq)\n",
    "  print('-')\n",
    "  print('Input:', input_texts[i])\n",
    "  print('Translation:', translation)\n",
    "\n",
    "  ans = input(\"Continue? [Y/n]\")\n",
    "  if ans and ans.lower().startswith('n'):\n",
    "    break"
   ]
  },
  {
   "cell_type": "code",
   "execution_count": null,
   "metadata": {},
   "outputs": [],
   "source": []
  }
 ],
 "metadata": {
  "kernelspec": {
   "display_name": "Python 3",
   "language": "python",
   "name": "python3"
  },
  "language_info": {
   "codemirror_mode": {
    "name": "ipython",
    "version": 3
   },
   "file_extension": ".py",
   "mimetype": "text/x-python",
   "name": "python",
   "nbconvert_exporter": "python",
   "pygments_lexer": "ipython3",
   "version": "3.7.3"
  }
 },
 "nbformat": 4,
 "nbformat_minor": 2
}
